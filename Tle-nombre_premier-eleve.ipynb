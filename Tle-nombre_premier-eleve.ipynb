{
 "cells": [
  {
   "cell_type": "markdown",
   "metadata": {},
   "source": [
    "# Les nombres premiers"
   ]
  },
  {
   "cell_type": "markdown",
   "metadata": {},
   "source": [
    "## Test de primalité \n",
    "\n",
    "**Rappel**\n",
    "- Soit les entiers naturels $a$, $b$ et $n$ tels que $n=ab$ alors $a \\leqslant \\sqrt{n}$ (ou $b \\leqslant \\sqrt{n}$)\n",
    "- Soit $n$ un entier composé alors il existe un nombre premier $p$ tel que $p\\mid n$ et $p\\leqslant \\sqrt{n}$\n",
    "\n",
    "**Théorème** Soit $p$ un entier naturel non nul , $p$ est premier si et seulement si, s’il n’admet pas de diviseurs inférieurs ou égaux à $\\sqrt{n}$\n",
    "    "
   ]
  },
  {
   "cell_type": "code",
   "execution_count": 6,
   "metadata": {},
   "outputs": [],
   "source": [
    "''' Ecrire une fontion python prenant en argument un entier n non nul\n",
    "    et renvoyant True si n est premier, False sinon'''\n",
    "\n",
    "from math import *\n",
    "\n",
    "def estPremier(n):\n",
    "    if n == 1 : return False\n",
    "    if n == 2 : return True\n",
    "    for i in range(3, int(sqrt(n))+1):\n",
    "        if n%i == 0 : return False\n",
    "    return True"
   ]
  },
  {
   "cell_type": "code",
   "execution_count": 11,
   "metadata": {},
   "outputs": [],
   "source": [
    "''' Tester votre fonction\n",
    "    L'exécution de cette fenêtre ne doit pas renvoyer d'erreur'''\n",
    "\n",
    "assert estPremier(1) == False\n",
    "assert estPremier(2) == True\n",
    "assert estPremier(17) == True\n",
    "assert estPremier(100) == False"
   ]
  },
  {
   "cell_type": "markdown",
   "metadata": {},
   "source": [
    "# Crible d'Erathostène\n",
    "\n",
    "**Rappel** L'algorithme procède par élimination : il s'agit de supprimer d'une table des entiers de $2$ à $N$ tous les multiples d'un entier. \n",
    "En supprimant tous les multiples, à la fin il ne restera que les entiers qui ne sont multiples d'aucun entier, et qui sont donc les nombres premiers.\n"
   ]
  },
  {
   "cell_type": "code",
   "execution_count": 24,
   "metadata": {},
   "outputs": [
    {
     "name": "stdout",
     "output_type": "stream",
     "text": [
      "[2, 3, 5, 7, 11, 13, 17, 19, 23, 29, 31, 37, 41, 43, 47, 53, 59, 61, 67, 71, 73, 79, 83, 89, 97]\n"
     ]
    }
   ],
   "source": [
    "''' Exécuter cette cellule. Que contient la variable liste en fin d'exécution ?'''\n",
    "\n",
    "liste = [ i for i in range(2,100)]\n",
    "\n",
    "liste = [ i for i in liste if i==2 or i%2 != 0]\n",
    "liste = [ i for i in liste if i==3 or i%3 != 0]\n",
    "liste = [ i for i in liste if i==4 or i%4 != 0]\n",
    "liste = [ i for i in liste if i==5 or i%5 != 0]\n",
    "liste = [ i for i in liste if i==6 or i%6 != 0]\n",
    "liste = [ i for i in liste if i==7 or i%7 != 0]\n",
    "\n",
    "print(liste)"
   ]
  },
  {
   "cell_type": "code",
   "execution_count": 7,
   "metadata": {},
   "outputs": [],
   "source": [
    " ''' Ecrire une fonction Python prenant en argument un entier n\n",
    "     et renvoyant la liste des nombres premiers inférieurs à n  '''\n",
    "\n",
    "def erathostene(n):\n",
    "    liste = [i for i in range(2,n)]\n",
    "    for x in range(2, int(sqrt(n))+1): \n",
    "        liste = [i for i in liste if i==x or i%x !=0]   \n",
    "    return liste"
   ]
  },
  {
   "cell_type": "code",
   "execution_count": 5,
   "metadata": {},
   "outputs": [],
   "source": [
    "''' Tester votre fonction\n",
    "    L'exécution de cette fenêtre ne doit pas renvoyer d'erreur'''\n",
    "\n",
    "assert erathostene(100) == [2, 3, 5, 7, 11, 13, 17, 19, 23, 29, 31, 37, 41, 43, 47, 53, 59, 61, 67, 71, 73, 79, 83, 89, 97]"
   ]
  },
  {
   "cell_type": "markdown",
   "metadata": {},
   "source": [
    "# Quelques propriétés des nombres premiers\n",
    "\n",
    "1. Rappeler comment on peut démontrer que l'ensemble des nombres premiers est infini.\n",
    "2. On note $\\pi(x)$ le nombre de nombres premiers inférieurs ou égal à $x$. Donner le sens de variation et la limite en $+\\infty$ de la fonction de compte des nombres premiers $\\pi$\n",
    "3. Un résultat important (Théorème de raréfaction de Legendre) est $\\lim\\limits_{x \\to +\\infty}\\dfrac{\\pi(x)}{x}=0$. Interpréter ce résultat."
   ]
  },
  {
   "cell_type": "code",
   "execution_count": 8,
   "metadata": {},
   "outputs": [],
   "source": [
    " ''' Ecrire une fonction Python prenant en argument un réel x\n",
    "     et renvoyant π(x)  \n",
    "     Aide : la fonction len renvoie la longueur (le nombre d'éléments) d'une liste '''\n",
    "    \n",
    "def pi(x):\n",
    "    return len(erathostene(x))"
   ]
  },
  {
   "cell_type": "code",
   "execution_count": 9,
   "metadata": {},
   "outputs": [],
   "source": [
    "''' Tester votre fonction\n",
    "    L'exécution de cette fenêtre ne doit pas renvoyer d'erreur'''\n",
    "\n",
    "assert pi(10) == 4\n",
    "assert pi(100) == 25"
   ]
  },
  {
   "cell_type": "code",
   "execution_count": 8,
   "metadata": {},
   "outputs": [
    {
     "data": {
      "text/plain": [
       "1598"
      ]
     },
     "execution_count": 8,
     "metadata": {},
     "output_type": "execute_result"
    }
   ],
   "source": [
    "''' Ecrire une fonction Python prenant en argument un réel A\n",
    "     et renvoyant le premier entier x tel que π(x)>A  '''\n",
    "    \n",
    "def seuil(A):\n",
    "    # VOTRE CODE ICI"
   ]
  },
  {
   "cell_type": "code",
   "execution_count": 9,
   "metadata": {},
   "outputs": [],
   "source": [
    "''' Tester votre fonction\n",
    "    L'exécution de cette fenêtre ne doit pas renvoyer d'erreur'''\n",
    "\n",
    "assert seuil(25) == 102\n",
    "assert seuil(250) == 1598"
   ]
  },
  {
   "cell_type": "markdown",
   "metadata": {},
   "source": [
    "4. Le postulat de Bertrand affirme qu'entre un entier et son double, il existe toujours un nombre premier. Ecrire une fonction python permettant d'obtenir le plus petit nombre premier dans l'intervalle $[n~;~2n]$"
   ]
  },
  {
   "cell_type": "code",
   "execution_count": 10,
   "metadata": {},
   "outputs": [],
   "source": [
    "def bertrand(n):\n",
    "    # VOTRE CODE ICI"
   ]
  },
  {
   "cell_type": "code",
   "execution_count": 11,
   "metadata": {},
   "outputs": [],
   "source": [
    "''' Tester votre fonction\n",
    "    L'exécution de cette fenêtre ne doit pas renvoyer d'erreur'''\n",
    "\n",
    "assert bertrand(1000) == 1009\n",
    "assert bertrand(10000) == 10007"
   ]
  },
  {
   "cell_type": "code",
   "execution_count": null,
   "metadata": {},
   "outputs": [],
   "source": []
  }
 ],
 "metadata": {
  "kernelspec": {
   "display_name": "Python 3",
   "language": "python",
   "name": "python3"
  },
  "language_info": {
   "codemirror_mode": {
    "name": "ipython",
    "version": 3
   },
   "file_extension": ".py",
   "mimetype": "text/x-python",
   "name": "python",
   "nbconvert_exporter": "python",
   "pygments_lexer": "ipython3",
   "version": "3.7.6"
  }
 },
 "nbformat": 4,
 "nbformat_minor": 4
}
