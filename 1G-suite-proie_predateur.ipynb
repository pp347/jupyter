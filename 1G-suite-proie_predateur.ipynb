{
 "cells": [
  {
   "cell_type": "markdown",
   "metadata": {
    "deletable": false,
    "editable": false,
    "nbgrader": {
     "checksum": "73cf6edaf20d62917d15c22ed78b196d",
     "grade": false,
     "grade_id": "cell-295bfc4d1e5d091c",
     "locked": true,
     "schema_version": 1,
     "solution": false
    }
   },
   "source": [
    "> ***Consignes***\n",
    "> Ce TP est à compléter directement en utilisant JupyterLab, version locale ou version en ligne https://jupyter.org/try\n",
    ">\n",
    "> *Remarque* Les personnes ayant un compte Google peuvent aussi utiliser https://colab.research.google.com/\n",
    ">\n",
    "> *Rappel* Supprimer les lignes \"raise NotImplementedError()\"\n",
    ">\n",
    ">Votre travail devra ensuite être\n",
    ">- pour les G1, envoyé au format ipynb\n",
    ">- pour les autres, envoyé au format html (File -> Export as ... ou Download as ...)"
   ]
  },
  {
   "cell_type": "markdown",
   "metadata": {
    "deletable": false,
    "editable": false,
    "nbgrader": {
     "checksum": "158d2aa2b67929d56692e6d501d4d9ab",
     "grade": false,
     "grade_id": "cell-d19f06fde6fcd342",
     "locked": true,
     "schema_version": 1,
     "solution": false
    }
   },
   "source": [
    "# Le modèle proie-prédateur (Modèle de Lotka-Voltera)\n",
    "\n",
    "En dynamique de population, il est fréquent que les populations de deux espèces animales interagissent. Dans les années 1920-1930, l'italien Vito voltera et l'américain Alfred James Lotka ont mené séparément des recherches sur des systèmes où des prédateurs (requins ou lynx) et leurs proies (sardines en mer Adriatique ou rongueurs) sont liés, dans un milieu stable. \n",
    "\n",
    "Voici une version simplifiée de leur modèle.\n",
    "\n",
    "\n",
    "Pour tout entier naturel $n$, on note $R_n$ l'effectif de la population de proies et $L_n$ celui de prédateurs au bout de $n$ années après l'introduction des prédateurs.\n",
    "\n",
    "On fait les hypothèses que d'une année à l'autre\n",
    "\n",
    "- le taux d'accroissement des proies est une fonction affine décroissante du nombre de prédateurs $$\\forall n\\in \\mathbb{N}\\,, \\frac{R_{n+1}-R_n}{R_n} = a - b\\, L_n \\text{ avec } a\\geqslant 0\\,, b\\geqslant 0 $$\n",
    "- le taux d'accroissement des prédateurs est une fonction affine croissante du nombre de proies $$\\forall n\\in \\mathbb{N}\\,, \\frac{L_{n+1}-L_n}{L_n} = c\\,R_n - d \\text{ avec } c\\geqslant 0\\,, d\\geqslant 0 $$\n"
   ]
  },
  {
   "cell_type": "markdown",
   "metadata": {
    "deletable": false,
    "editable": false,
    "nbgrader": {
     "checksum": "5332b4851f0dcfb988b39d36c14509fc",
     "grade": false,
     "grade_id": "cell-be8cd8df5519904e",
     "locked": true,
     "schema_version": 1,
     "solution": false
    }
   },
   "source": [
    "## Application avec la population des Lynx et des petits rongueurs sur un territoire clos du Canada.\n",
    "\n",
    "On suppose que le système donné ci-dessus se résume au cas particulier suivant $\\begin{cases}L_{n+1}=0,96L_n+0,00005\\times L_n\\times R_n \\\\ R_{n+1} = 1,05\\times R_n - 0,002\\times L_n \\times R_n \\end{cases}$ \n",
    "\n",
    "On suppose aussi que $L_0 = 40$ et $R_0=2000$."
   ]
  },
  {
   "cell_type": "markdown",
   "metadata": {
    "deletable": false,
    "editable": false,
    "nbgrader": {
     "checksum": "2ccebf8539059fb8b457e10ef1094b91",
     "grade": false,
     "grade_id": "cell-2dbdd9c63430cc5c",
     "locked": true,
     "schema_version": 1,
     "solution": false
    }
   },
   "source": [
    "**Questions** En l'absence de prédateurs\n",
    "1. Exprimer $R_{n+1}$ en fonction de $R_n$. Justifier.\n",
    "2. Quelle est la nature de la suite $(R_n)$ ? Donner ses éléments caractéristiques.\n",
    "3. Comment évolue l'effectif des proies ? Justifier."
   ]
  },
  {
   "cell_type": "markdown",
   "metadata": {
    "deletable": false,
    "nbgrader": {
     "checksum": "7f5da772b6c4952088ed01c127521a64",
     "grade": true,
     "grade_id": "cell-59016b09924dc984",
     "locked": false,
     "points": 3,
     "schema_version": 1,
     "solution": true
    }
   },
   "source": [
    "YOUR ANSWER HERE"
   ]
  },
  {
   "cell_type": "markdown",
   "metadata": {
    "deletable": false,
    "editable": false,
    "nbgrader": {
     "checksum": "ece5684e98dbdadc3e330ccd932f3980",
     "grade": false,
     "grade_id": "cell-7e7374a5a7ff5f6b",
     "locked": true,
     "schema_version": 1,
     "solution": false
    }
   },
   "source": [
    "**Questions** En l'absence de rongeurs\n",
    "1. Exprimer $L_{n+1}$ en fonction de $L_n$. Justifier.\n",
    "2. Quelle est la nature de la suite $(L_n)$ ? Donner ses éléments caractéristiques.\n",
    "3. Comment évolue l'effectif des prédateurs ? Justifier"
   ]
  },
  {
   "cell_type": "markdown",
   "metadata": {
    "deletable": false,
    "nbgrader": {
     "checksum": "698ea546ead11c018d510a67b4294e47",
     "grade": true,
     "grade_id": "cell-92a17a3660cd7ab6",
     "locked": false,
     "points": 3,
     "schema_version": 1,
     "solution": true
    }
   },
   "source": [
    "YOUR ANSWER HERE"
   ]
  },
  {
   "cell_type": "code",
   "execution_count": null,
   "metadata": {
    "deletable": false,
    "nbgrader": {
     "checksum": "20141639bf7aa90c728a8d81f33e182e",
     "grade": false,
     "grade_id": "cell-b2caa07e29c1b7af",
     "locked": false,
     "schema_version": 1,
     "solution": true
    }
   },
   "outputs": [],
   "source": [
    "'''Reproduire et compléter la fonction suivante prenant en argument un entier naturel n\n",
    "et renvoyant les n premiers termes des suites (Ln) et (Rn)'''\n",
    "\n",
    "'''\n",
    "def lv(n) :\n",
    "    l,r = 40,2000\n",
    "    liste_lynx = []\n",
    "    liste_rongeurs = ...\n",
    "    for i in range(n):\n",
    "        liste_lynx.append(l)\n",
    "        liste_rongeurs.append(...)\n",
    "        l,r = .96*l + .00005*l*r, ...\n",
    "    return liste_lynx,liste_rongeurs\n",
    "'''\n",
    "\n",
    "def lv(n):\n",
    "    # YOUR CODE HERE\n",
    "    raise NotImplementedError()"
   ]
  },
  {
   "cell_type": "code",
   "execution_count": null,
   "metadata": {
    "deletable": false,
    "editable": false,
    "nbgrader": {
     "checksum": "d9d6780092940b6847da0acaa3ed7770",
     "grade": true,
     "grade_id": "cell-bb53095f7dc3aee4",
     "locked": true,
     "points": 1,
     "schema_version": 1,
     "solution": false
    }
   },
   "outputs": [],
   "source": [
    "''' Vérifier que votre fonction renvoie les valeurs pour différentes valeurs de n\n",
    "    Cette cellule doit s'exécuter sans erreur '''\n",
    "\n",
    "assert lv(2) == ([40, 42.4], [2000, 1940.0])\n",
    "assert lv(3) == ([40, 42.4, 44.8168], [2000, 1940.0, 1872.488])"
   ]
  },
  {
   "cell_type": "code",
   "execution_count": null,
   "metadata": {
    "deletable": false,
    "nbgrader": {
     "checksum": "6e37f7fb11014d6da53649b7dbaa9021",
     "grade": false,
     "grade_id": "cell-431f91041e5ae8ed",
     "locked": false,
     "schema_version": 1,
     "solution": true
    }
   },
   "outputs": [],
   "source": [
    "'''Reproduire et compléter la fonction suivante prenant en argument un entier naturel n\n",
    "et représentant sur un même graphique les points (n;Ln) et (n;Rn)'''\n",
    "\n",
    "%matplotlib inline\n",
    "import matplotlib.pyplot as plt\n",
    "\n",
    "'''\n",
    "def glv(n):\n",
    "    liste_x = ...\n",
    "    liste_lynx, liste_rongeurs = lv(n)\n",
    "    plt.plot(liste_x,liste_lynx,'ro', label='Lynx')\n",
    "    plt.plot(...,...,'bo', label='Rongeurs')\n",
    "    plt.xlabel(\"$n$\")\n",
    "    plt.title(\"Evolution de la population des rongeurs et des lynx en fonction du temps $n$\")\n",
    "    plt.legend()\n",
    "    plt.show()\n",
    "'''\n",
    "\n",
    "def glv(n):\n",
    "    # YOUR CODE HERE\n",
    "    raise NotImplementedError()"
   ]
  },
  {
   "cell_type": "code",
   "execution_count": null,
   "metadata": {
    "deletable": false,
    "nbgrader": {
     "checksum": "d8efaef8b5378611afef1db3ba4c3b3d",
     "grade": false,
     "grade_id": "cell-4485224627dfd5fa",
     "locked": false,
     "schema_version": 1,
     "solution": true
    }
   },
   "outputs": [],
   "source": [
    "''' Exécuter cette fonction pour obtenir 150 points de chaque suite'''\n",
    "\n",
    "# YOUR CODE HERE\n",
    "raise NotImplementedError()"
   ]
  },
  {
   "cell_type": "markdown",
   "metadata": {
    "deletable": false,
    "editable": false,
    "nbgrader": {
     "checksum": "fcb89a36118835ee79c61e48ab6dcca5",
     "grade": false,
     "grade_id": "cell-09e2dd044b0a576d",
     "locked": true,
     "schema_version": 1,
     "solution": false
    }
   },
   "source": [
    "**Questions** \n",
    "1. Décrire les variations de ces suites\n",
    "2. En donner une interprétation"
   ]
  },
  {
   "cell_type": "markdown",
   "metadata": {
    "deletable": false,
    "nbgrader": {
     "checksum": "13f08057e209181f22bfa5c3df7a43b3",
     "grade": true,
     "grade_id": "cell-79cf5c019cc55afe",
     "locked": false,
     "points": 2,
     "schema_version": 1,
     "solution": true
    }
   },
   "source": [
    "YOUR ANSWER HERE"
   ]
  },
  {
   "cell_type": "code",
   "execution_count": null,
   "metadata": {
    "deletable": false,
    "nbgrader": {
     "checksum": "dc0ce781ce0594ee4610b4512245eebc",
     "grade": false,
     "grade_id": "cell-bb374d14a4a538bd",
     "locked": false,
     "schema_version": 1,
     "solution": true
    }
   },
   "outputs": [],
   "source": [
    "''' Exécuter la fonction précédente pour obtenir 1500 points de chaque suite'''\n",
    "\n",
    "# YOUR CODE HERE\n",
    "raise NotImplementedError()"
   ]
  },
  {
   "cell_type": "markdown",
   "metadata": {
    "deletable": false,
    "editable": false,
    "nbgrader": {
     "checksum": "d7131f41c92c5cf2ea5b35d4fdce27b2",
     "grade": false,
     "grade_id": "cell-d98c6be3470ca20d",
     "locked": true,
     "schema_version": 1,
     "solution": false
    }
   },
   "source": [
    "**Questions** \n",
    "1. Décrire les variations de ces suites\n",
    "2. En donner une interprétation"
   ]
  },
  {
   "cell_type": "markdown",
   "metadata": {
    "deletable": false,
    "nbgrader": {
     "checksum": "3ba0d415d6f0b1c5d78d3522951d6193",
     "grade": true,
     "grade_id": "cell-cd5260617e7695c2",
     "locked": false,
     "points": 2,
     "schema_version": 1,
     "solution": true
    }
   },
   "source": [
    "YOUR ANSWER HERE"
   ]
  },
  {
   "cell_type": "code",
   "execution_count": null,
   "metadata": {
    "deletable": false,
    "nbgrader": {
     "checksum": "c5c35481991425625d54f1c6d8199444",
     "grade": false,
     "grade_id": "cell-fd90efccfd79eb60",
     "locked": false,
     "schema_version": 1,
     "solution": true
    }
   },
   "outputs": [],
   "source": [
    "'''Reproduire et compléter la fonction suivante prenant en argument un entier naturel n\n",
    "et représentant sur un même graphique les points (Ln;Rn)'''\n",
    "\n",
    "'''\n",
    "def nlv(n):\n",
    "    liste_lynx, liste_rongeurs = ...\n",
    "    plt.plot(...,...,'b>')\n",
    "    plt.xlabel(\"Evolution de la population des lynx\")\n",
    "    plt.ylabel(\"Evolution de la population des rongeurs\")\n",
    "    plt.title(\"Evolution de la population des lynx et des rongeurs\")\n",
    "    plt.plot(40,2000,'ro', label='$(L_0;R_0)$')\n",
    "    plt.legend()\n",
    "    plt.show()\n",
    "'''\n",
    "\n",
    "def nlv(n):\n",
    "    # YOUR CODE HERE\n",
    "    raise NotImplementedError()"
   ]
  },
  {
   "cell_type": "code",
   "execution_count": null,
   "metadata": {
    "deletable": false,
    "nbgrader": {
     "checksum": "ef17dd77cede9db2d0ff1fcc15777895",
     "grade": false,
     "grade_id": "cell-9eea7c5088678a68",
     "locked": false,
     "schema_version": 1,
     "solution": true
    }
   },
   "outputs": [],
   "source": [
    "''' Exécuter cette fonction pour obtenir un nuage de 150 points'''\n",
    "\n",
    "# YOUR CODE HERE\n",
    "raise NotImplementedError()"
   ]
  },
  {
   "cell_type": "code",
   "execution_count": null,
   "metadata": {
    "deletable": false,
    "nbgrader": {
     "checksum": "ae1c104ad4a711381bf8c65cf5c279de",
     "grade": false,
     "grade_id": "cell-8c506127a86c6278",
     "locked": false,
     "schema_version": 1,
     "solution": true
    }
   },
   "outputs": [],
   "source": [
    "''' Exécuter la fonction précédente pour obtenir un nuage de 1500 points'''\n",
    "\n",
    "# YOUR CODE HERE\n",
    "raise NotImplementedError()"
   ]
  },
  {
   "cell_type": "code",
   "execution_count": null,
   "metadata": {},
   "outputs": [],
   "source": []
  }
 ],
 "metadata": {
  "kernelspec": {
   "display_name": "Python 3",
   "language": "python",
   "name": "python3"
  },
  "language_info": {
   "codemirror_mode": {
    "name": "ipython",
    "version": 3
   },
   "file_extension": ".py",
   "mimetype": "text/x-python",
   "name": "python",
   "nbconvert_exporter": "python",
   "pygments_lexer": "ipython3",
   "version": "3.7.3"
  }
 },
 "nbformat": 4,
 "nbformat_minor": 4
}
