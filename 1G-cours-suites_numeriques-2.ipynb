{
 "cells": [
  {
   "cell_type": "code",
   "execution_count": 8,
   "metadata": {
    "deletable": false,
    "editable": false,
    "nbgrader": {
     "checksum": "66b42d7362d5837c236fdd25bb7e4dfe",
     "grade": false,
     "grade_id": "cell-6f80e33ed49fcbfd",
     "locked": true,
     "schema_version": 1,
     "solution": false
    }
   },
   "outputs": [],
   "source": [
    "%matplotlib inline\n",
    "import matplotlib.pyplot as plt"
   ]
  },
  {
   "cell_type": "markdown",
   "metadata": {
    "deletable": false,
    "editable": false,
    "nbgrader": {
     "checksum": "ae201499a312efba4d5e71f2181ee39c",
     "grade": false,
     "grade_id": "cell-794888a2fcf46c43",
     "locked": true,
     "schema_version": 1,
     "solution": false
    }
   },
   "source": [
    "# Généralités sur les suites"
   ]
  },
  {
   "cell_type": "markdown",
   "metadata": {
    "deletable": false,
    "editable": false,
    "nbgrader": {
     "checksum": "0fdaabbeb2856e8ccf27066b2687a0e8",
     "grade": false,
     "grade_id": "cell-ec4a587c726374d8",
     "locked": true,
     "schema_version": 1,
     "solution": false
    }
   },
   "source": [
    "## I. Les suites\n",
    "\n",
    "**Définition**\n",
    "- On appelle *suite* toute fonction $u$ définie sur $\\mathbb{N}$ et à valeurs dans $\\mathbb{R}$.\n",
    "- Pour tout entier naturel $n$, son image $u(n)$ est notée $u_n$ et est appelée *terme de rang $n$* de la suite.\n",
    "- La suite est notée $(u_n)_{n\\in\\mathbb{N}}$, $(u_n)$ ou $(u)$.\n",
    "\n",
    "**Sens de variation (théorème)**\n",
    "- une suite $(u_n)$ est croissante si, et seulement si, pour tout entier naturel $n$, on a $u_n\\leqslant u_{n+1}$\n",
    "- une suite $(u_n)$ est décroissante si, et seulement si, pour tout entier naturel $n$, on a $u_n\\geqslant u_{n+1}$\n",
    "- une suite $(u_n)$ est constante si, et seulement si, pour tout entier naturel $n$, on a $u_n = u_{n+1}$\n",
    "\n",
    "Ainsi, étudier le sens de variation d'une suite revient à comparer, pour tout entier naturel $n$ (c'est à dire dans le cas général), $u_n$ et $u_{n+1}$. Une méthode de comparaison est l'étude du signe de $u_{n+1}-u_n$\n",
    "\n",
    "*Exercices* p.17 n°1 et n°2\n",
    "\n",
    "**Limite (notion intuitive)**\n",
    "- La limite d'une suite est le nombre (s'il existe) dont les termes de la suite se rapprochent lorsque $n$ devient très grand.\n",
    "- Si une suite admet pour limite un réel $\\ell$, on dit que cette suite *converge vers $\\ell$*\n",
    "- Une suite n'admet pas forcément de limite finie, dans ce cas, on dit que cette suite *diverge*\n",
    "\n",
    "*Exercices* p.19 n°1 et n°2\n"
   ]
  },
  {
   "cell_type": "markdown",
   "metadata": {
    "deletable": false,
    "editable": false,
    "nbgrader": {
     "checksum": "4a65ea4334a898f300eb2c5d16364067",
     "grade": false,
     "grade_id": "cell-907a78d8fe9cfcb4",
     "locked": true,
     "schema_version": 1,
     "solution": false
    }
   },
   "source": [
    "## II. Les suites arithmétiques\n",
    "\n",
    "*Les propriétés de ces suites sont à connaître.*\n",
    "\n",
    "**Définition**\n",
    "\n",
    "Soit $(u_n)$ la suite arithmétique de premier terme $u_0$ et de raison $r$.\n",
    "- relation explicite : $\\forall n \\in \\mathbb{N}\\,, u_n = u_0 + nr$\n",
    "- relation de récurrence : $u_0$ connu et pour tout entier naturel $ n$, $u_{n+1} = u_n + r$"
   ]
  },
  {
   "cell_type": "code",
   "execution_count": 4,
   "metadata": {},
   "outputs": [
    {
     "name": "stdout",
     "output_type": "stream",
     "text": [
      "[100, 102, 104, 106, 108, 110, 112, 114, 116, 118]\n"
     ]
    }
   ],
   "source": [
    "# Affiche la liste des n premiers termes avec la relation explicite - listes de compréhension\n",
    "def sa(u0,r,n):\n",
    "    liste = [u0+i*r for i in range(n)]\n",
    "    return liste\n",
    "\n",
    "print(sa(100,2,10))"
   ]
  },
  {
   "cell_type": "code",
   "execution_count": 5,
   "metadata": {},
   "outputs": [
    {
     "name": "stdout",
     "output_type": "stream",
     "text": [
      "[100, 102, 104, 106, 108, 110, 112, 114, 116, 118, 120, 122, 124, 126, 128, 130, 132, 134, 136, 138]\n"
     ]
    }
   ],
   "source": [
    "# Affiche la liste des n premiers termes avec la relation de récurrence\n",
    "def sa2(u0,r,n):\n",
    "    liste = []\n",
    "    u = u0\n",
    "    for i in range(n):\n",
    "        liste.append(u)\n",
    "        u = u+r\n",
    "    return liste\n",
    "\n",
    "print(sa2(100,2,20))"
   ]
  },
  {
   "cell_type": "code",
   "execution_count": 10,
   "metadata": {},
   "outputs": [
    {
     "data": {
      "image/png": "[encoded data removed]",
      "text/plain": [
       "<Figure size 432x288 with 1 Axes>"
      ]
     },
     "metadata": {
      "needs_background": "light"
     },
     "output_type": "display_data"
    }
   ],
   "source": [
    "# Représentation graphique des n premiers termes - module pyplot\n",
    "\n",
    "def gsa(u0,r,n):\n",
    "    liste_x = [i for i in range(n)]\n",
    "    liste_y = sa(u0,r,n)\n",
    "    plt.plot(liste_x,liste_y,'rx')\n",
    "    plt.title(\"Suite arithmétique de premier terme $u_0=${0} et de raison $r=${1}\".format(u0,r))\n",
    "    plt.xlabel(\"$n$\")\n",
    "    plt.ylabel(\"$u_n$\")\n",
    "\n",
    "gsa(100,-2,20)"
   ]
  },
  {
   "cell_type": "markdown",
   "metadata": {
    "deletable": false,
    "editable": false,
    "nbgrader": {
     "checksum": "2d1d4d1538b48a19c252e53724debdfd",
     "grade": false,
     "grade_id": "cell-3e990b21396ad49c",
     "locked": true,
     "schema_version": 1,
     "solution": false
    }
   },
   "source": [
    "**Remarque** Une suite arithmétique modélise un phénomène discret à croissance linéaire (exemple : le placement d'un capital $C_0$ rémunérant $t$% d'intérêts simples annuels - chaque année, le capital augmente d'une valeur constante égale à $C_0\\times \\frac{t}{100}$)."
   ]
  },
  {
   "cell_type": "markdown",
   "metadata": {
    "deletable": false,
    "editable": false,
    "nbgrader": {
     "checksum": "3648caf6b8d3668efa670f0040e617a1",
     "grade": false,
     "grade_id": "cell-216566bc9a2f2502",
     "locked": true,
     "schema_version": 1,
     "solution": false
    }
   },
   "source": [
    "**Sens de variations**\n",
    "\n",
    "Pour tout entier naturel $n$, on a $u_{n+1}-u_{n} = r$. Ainsi\n",
    "\n",
    "- si $r>0$, $(u)$ est strictement croissante\n",
    "- si $r<0$, $(u)$ est strictement décroissante\n",
    "- si $r=0$, $(u)$ est constante\n",
    "\n",
    "**Limite**\n",
    "\n",
    "Pour tout entier naturel $n$, on a $u_{n+1} = u_n + r$. Ainsi\n",
    "\n",
    "- si $r>0$, $(u)$ diverge vers $+\\infty$\n",
    "- si $r<0$, $(u)$ diverge vers $-\\infty$\n",
    "- si $r=0$, $(u)$ converge vers $u_0$\n",
    "\n",
    "**Somme**\n",
    "\n",
    "Pour tout entier naturel $n$, on a $$1 + 2 + 3 + 4 + \\cdots + n = \\frac{n(n+1)}{2}$$\n",
    "\n",
    "*Preuve*\n",
    "\n",
    "On pose $S = 1 + 2 + 3 + 4 + \\cdots + n$. Ainsi\n",
    "- $S = 1 + 2 + 3 + 4 + \\cdots + n$\n",
    "- $S = n +(n-1) + (n-2) + (n-3) + \\cdots + 1$\n",
    "\n",
    "d'où $\\begin{align}2S &= (n+1) + (n+1) + (n+1) +(n+1) + \\cdots (n+1)\\\\ &= n(n+1)\\end{align}$\n",
    "\n",
    "\n"
   ]
  },
  {
   "cell_type": "code",
   "execution_count": 11,
   "metadata": {},
   "outputs": [
    {
     "data": {
      "text/plain": [
       "2380"
      ]
     },
     "execution_count": 11,
     "metadata": {},
     "output_type": "execute_result"
    }
   ],
   "source": [
    "# Somme des n premiers termes d'une SA - instruction sum\n",
    "def ssa(u0,r,n):\n",
    "    liste = sa(u0,r,n)\n",
    "    somme = sum(liste)\n",
    "    return somme\n",
    "\n",
    "ssa(100,2,20)"
   ]
  },
  {
   "cell_type": "markdown",
   "metadata": {
    "deletable": false,
    "editable": false,
    "nbgrader": {
     "checksum": "f8eb62358e5f21da054bafacc3606402",
     "grade": false,
     "grade_id": "cell-61003da0a75ba788",
     "locked": true,
     "schema_version": 1,
     "solution": false
    }
   },
   "source": [
    "## II. Les suites géométriques\n",
    "\n",
    "*Les propriétés de ces suites sont à connaître.*\n",
    "\n",
    "**Définition**\n",
    "\n",
    "Soit $(u_n)$ la suite géométrique de premier terme $u_0$ et de raison $q$.\n",
    "- relation explicite : $\\forall n \\in \\mathbb{N}\\,, u_n = u_0 \\times q^n$\n",
    "- relation de récurrence : $u_0$ connu et pour tout entier naturel $n$, $u_{n+1} = q\\times u_n$"
   ]
  },
  {
   "cell_type": "code",
   "execution_count": 21,
   "metadata": {},
   "outputs": [
    {
     "name": "stdout",
     "output_type": "stream",
     "text": [
      "[1.0, -0.5, 0.25, -0.125, 0.0625, -0.03125, 0.015625, -0.0078125, 0.00390625, -0.001953125, 0.0009765625, -0.00048828125, 0.000244140625, -0.0001220703125, 6.103515625e-05, -3.0517578125e-05, 1.52587890625e-05, -7.62939453125e-06, 3.814697265625e-06, -1.9073486328125e-06]\n"
     ]
    }
   ],
   "source": [
    "# Affiche la liste des n premiers termes - listes de compréhension\n",
    "def sg(u0,q,n):\n",
    "    liste = [u0*q**i for i in range(n)]\n",
    "    return liste\n",
    "\n",
    "print(sg(1,-.5,20))"
   ]
  },
  {
   "cell_type": "code",
   "execution_count": 20,
   "metadata": {},
   "outputs": [
    {
     "data": {
      "image/png": "[encoded data removed]",
      "text/plain": [
       "<Figure size 432x288 with 1 Axes>"
      ]
     },
     "metadata": {
      "needs_background": "light"
     },
     "output_type": "display_data"
    }
   ],
   "source": [
    "# Représentation graphique des n premiers termes - module pyplot\n",
    "\n",
    "def gsg(u0,q,n):\n",
    "    liste_x = [i for i in range(n)]\n",
    "    liste_y = sg(u0,q,n)\n",
    "    plt.plot(liste_x,liste_y,'bo')\n",
    "    plt.title(\"Suite géométrique avec $u_0=${0} et $q=${1}\".format(u0,q))\n",
    "    plt.xlabel(\"$n$\")\n",
    "    plt.ylabel(\"$u_n$\")\n",
    "\n",
    "gsg(1,-.5,20)"
   ]
  },
  {
   "cell_type": "markdown",
   "metadata": {
    "deletable": false,
    "editable": false,
    "nbgrader": {
     "checksum": "67db4aa850d53998878f53da9455615d",
     "grade": false,
     "grade_id": "cell-09eb24f9729b7073",
     "locked": true,
     "schema_version": 1,
     "solution": false
    }
   },
   "source": [
    "**Remarque** Une suite géométrique modélise un phénomène discret à croissance exponentielle (exemple : le placement d'un capital $C_0$ rémunérant $t$% d'intérêts composés annuels - chaque année, le capital augmente de $t$%)."
   ]
  },
  {
   "cell_type": "markdown",
   "metadata": {
    "deletable": false,
    "editable": false,
    "nbgrader": {
     "checksum": "03057441157b48b2768e1d9f9641d1cf",
     "grade": false,
     "grade_id": "cell-09469656b1565630",
     "locked": true,
     "schema_version": 1,
     "solution": false
    }
   },
   "source": [
    "**Sens de variations de la suite $(q^n)$ avec $q\\neq 0$**\n",
    "\n",
    "Pour tout entier naturel $n$, on a $q^{n+1}-{q^n}= q^n(q-1)$. Ainsi,\n",
    "\n",
    "- si $q>1$, $(q^n)$ est strictement croissante\n",
    "- si $0<q<1$, $(q^n)$ est strictement décroissante\n",
    "- si $q=0$ ou $q=1$, $(q^n)$ est constante à partir du rang 1\n",
    "- si $q<0$, $(q^n)$ n'est pas monotone\n",
    "\n",
    "\n",
    "\n",
    "\\begin{array}{|l|lcccccr|}\\hline\n",
    " q   & -\\infty &  & 0 &     & 1 &    & +\\infty \\\\ \\hline\n",
    "\\text{variation de }(q^n) &        & \\text{non monotone} & |  & \\text{décroissante} &|& \\text{croissante} & \\\\ \\hline\n",
    "\\end{array}\n",
    "\n",
    "\n",
    "**Limite de la suite $(q^n)$**\n",
    "\n",
    "Pour tout entier naturel $n$, on a $u_{n+1} = q\\, u_n$. Ainsi\n",
    "\n",
    "- si $q>1$, $(q^n)$ diverge vers $+\\infty$\n",
    "- si $q=1$, $(q^n)$ converge vers 1\n",
    "- si $-1 < q <1$, $(q^n)$ converge vers $0$\n",
    "- si $q\\leqslant -1$, $(q^n)$ diverge\n",
    "\n",
    "\\begin{array}{|l|lcccccr|}\\hline\n",
    " q   & -\\infty &  & -1 &     & 1 &    & +\\infty \\\\ \\hline\n",
    "\\text{limite de }(q^n) &        & \\text{diverge} & |  & \\text{converge vers }0 &|& \\text{diverge vers }+\\infty & \\\\ \\hline\n",
    "\\end{array}\n",
    "\n",
    "\n",
    "*Remarque* Pour une suite géométrique $(u)$ de premier terme $u_0$ et de raison $q$,\n",
    "- si $u_0>0$, $(u)$ et $(q^n)$ ont même sens de variation et même limite\n",
    "- si $u_0<0$, $(u)$ et $(q^n)$ ont des sens de variation contraire et des limites \"opposées\"\n",
    "\n",
    "**Somme**\n",
    "\n",
    "Soit $q\\neq 1$, pour tout entier naturel $n$, on a $$1 + q + q^2 + q^3 + \\cdots + q^n = \\frac{1-q^{n+1}}{1-q}$$\n",
    "\n",
    "*Preuve*\n",
    "\n",
    "On pose $S = 1 + q + q^2 + q^3 + \\cdots + q^n$. Ainsi\n",
    "- $S = 1 + q+ q^2 + q^3 + \\cdots + q^n$\n",
    "- $qS = q + q^2 + q^3 + q^4 + \\cdots + q^{n+1}$\n",
    "\n",
    "d'où $\\begin{align}S-qS &= 1-q^{n+1}\\\\ (1-q)S &= 1-q^{n+1}\\end{align}$\n",
    "\n",
    "\n"
   ]
  },
  {
   "cell_type": "markdown",
   "metadata": {
    "deletable": false,
    "editable": false,
    "nbgrader": {
     "checksum": "ad1c629cf605e62fc3c40f997145d132",
     "grade": false,
     "grade_id": "cell-d069e61fcf88a629",
     "locked": true,
     "schema_version": 1,
     "solution": false
    }
   },
   "source": [
    "## III. Etude de la suite de syracuse\n",
    "\n",
    "Soit $(u)$ la suite définie par $u_0=N$ où $N$ est un entier naturel et pour tout entier $n$, $u_{n+1} = \\begin{cases} \\dfrac{u_n}{2} & \\text{si $u_n$ est pair} \\\\ 3u_n+1 &\\text{sinon}\\end{cases}$"
   ]
  },
  {
   "cell_type": "code",
   "execution_count": 27,
   "metadata": {
    "deletable": false,
    "nbgrader": {
     "checksum": "11638e4e23ce1ff4138e75a611be2bc5",
     "grade": false,
     "grade_id": "cell-8cf5364e8f7592d0",
     "locked": false,
     "schema_version": 1,
     "solution": true
    }
   },
   "outputs": [
    {
     "data": {
      "text/plain": [
       "[12, 6, 3, 10, 5, 16]"
      ]
     },
     "execution_count": 27,
     "metadata": {},
     "output_type": "execute_result"
    }
   ],
   "source": [
    "''' Reproduire et compléter la fonction python suivante donnant la liste des $n$ premiers termes de la suite avec N=12 '''\n",
    "\n",
    "\n",
    "def syr(n):\n",
    "    liste = []\n",
    "    u = 12\n",
    "    for i in range(n):\n",
    "        liste.append(u)\n",
    "        if u%2==0 : u = u//2\n",
    "        else : u = 3*u+1\n",
    "    return liste\n",
    "\n",
    "syr(6)"
   ]
  },
  {
   "cell_type": "code",
   "execution_count": 28,
   "metadata": {
    "deletable": false,
    "editable": false,
    "nbgrader": {
     "checksum": "2838b18b22927c84d1c67553e2ba8360",
     "grade": true,
     "grade_id": "cell-4310345e41f2db97",
     "locked": true,
     "points": 0,
     "schema_version": 1,
     "solution": false
    }
   },
   "outputs": [],
   "source": [
    "''' Vérifier que votre fonction renvoie les listes correctes pour différentes valeurs de n\n",
    "    Cette cellule doit s'exécuter sans erreur '''\n",
    "\n",
    "assert syr(6) == [12, 6, 3, 10, 5, 16]\n",
    "assert syr(7) == [12, 6, 3, 10, 5, 16, 8]\n"
   ]
  },
  {
   "cell_type": "code",
   "execution_count": 25,
   "metadata": {
    "deletable": false,
    "nbgrader": {
     "checksum": "1595f5600228b7ab1cc3a38fbcea9380",
     "grade": false,
     "grade_id": "cell-0d0c1ce3fd44c1da",
     "locked": false,
     "schema_version": 1,
     "solution": true
    }
   },
   "outputs": [],
   "source": [
    "''' Reproduire et compléter la fonction python suivante donnant la représentation graphique \n",
    "    des n premiers termes de la suite en fonction de n '''\n",
    "\n",
    "def gsyr(n):\n",
    "    liste_x = [ i for i in range(n)]\n",
    "    liste_y = syr(n)\n",
    "    plt.plot(liste_x,liste_y,'bo')\n"
   ]
  },
  {
   "cell_type": "code",
   "execution_count": 26,
   "metadata": {
    "deletable": false,
    "editable": false,
    "nbgrader": {
     "checksum": "ed12c7a6fc4ff635d8ba480f315561ea",
     "grade": false,
     "grade_id": "cell-42c829bd8ccba01e",
     "locked": true,
     "schema_version": 1,
     "solution": false
    }
   },
   "outputs": [
    {
     "name": "stdout",
     "output_type": "stream",
     "text": [
      "[12, 6, 3, 10, 5, 16, 8, 4, 2, 1, 4, 2, 1, 4, 2, 1, 4, 2, 1, 4]\n"
     ]
    },
    {
     "data": {
      "image/png": "[encoded data removed]",
      "text/plain": [
       "<Figure size 432x288 with 1 Axes>"
      ]
     },
     "metadata": {
      "needs_background": "light"
     },
     "output_type": "display_data"
    }
   ],
   "source": [
    "''' Représenter graphiquement les 20 premiers termes'''\n",
    "print(syr(20))\n",
    "gsyr(20)"
   ]
  },
  {
   "cell_type": "markdown",
   "metadata": {
    "deletable": false,
    "editable": false,
    "nbgrader": {
     "checksum": "e6707e0e9e36a4604248ed7d43aa1bb9",
     "grade": false,
     "grade_id": "cell-e79620aa37a6d810",
     "locked": true,
     "schema_version": 1,
     "solution": false
    }
   },
   "source": [
    "1. Emettre une conjecture sur le sens de variation de cette suite\n",
    "2. Justifier votre conjecture"
   ]
  },
  {
   "cell_type": "markdown",
   "metadata": {
    "deletable": false,
    "nbgrader": {
     "checksum": "37a47cbd5b67dac4f5971cead0af8988",
     "grade": true,
     "grade_id": "cell-1fe8f15c253c47e0",
     "locked": false,
     "points": 2,
     "schema_version": 1,
     "solution": true
    }
   },
   "source": [
    "1. Conjecture : La suite n'est pas monotone\n",
    "2. On a $u_1 > u_2$ mais $u_2<u_3$"
   ]
  },
  {
   "cell_type": "markdown",
   "metadata": {
    "deletable": false,
    "editable": false,
    "nbgrader": {
     "checksum": "3ceee2e75edfeafa063070eea35be3c2",
     "grade": false,
     "grade_id": "cell-15541bcbb318ebeb",
     "locked": true,
     "schema_version": 1,
     "solution": false
    }
   },
   "source": [
    "## IV. Etude de la suite de Fibonacci\n",
    "\n",
    "Introduite comme problème récréatif dans son fameux ouvrage Liber Abaci, la suite de Fibonacci peut être considérée comme le tout premier modèle mathématique en dynamique des populations ! En effet, elle y décrit la croissance d’une population de lapins sous des hypothèses très simplifiées, à savoir :\n",
    "\n",
    "- au (début du) premier mois, il y a juste une paire de lapereaux;\n",
    "- les lapereaux ne procréent qu'à partir du (début du) troisième mois;\n",
    "- chaque (début de) mois, toute paire susceptible de procréer génère effectivement une nouvelle paire de lapereaux;\n",
    "- les lapins ne meurent jamais \n",
    "\n",
    "On note $\\mathcal{F}_n$ le nombre de couples de lapins au $n$-ième mois. On a donc $\\mathcal{F}_0=\\mathcal{F}_1=1$ et pour tout entier naturel $n$, $$\\mathcal{F}_{n+2}=\\mathcal{F}_{n+1}+\\mathcal{F}_{n}$$"
   ]
  },
  {
   "cell_type": "markdown",
   "metadata": {},
   "source": [
    "$f_0 = 1$ et $f_1 = 1$,\n",
    "$f_2 = f_1 + f_0  =2$,\n",
    "$f_3 = f_2 + f_1  = 3$,\n",
    "\n",
    "1 , 1 , 2 , 3 , 5 , 8, 13, 21, ...\n",
    "\n",
    "f,g = 1 ,1\n",
    "f,g = 1, 2\n",
    "f,g = 2, 3\n",
    "f,g = 3, 5\n",
    "f,g = 5, 8\n",
    "f,g = 8,13\n",
    "...\n",
    "f,g = g, f+g\n",
    "\n"
   ]
  },
  {
   "cell_type": "markdown",
   "metadata": {
    "deletable": false,
    "editable": false,
    "nbgrader": {
     "checksum": "2832cb6bd5f63827ff61e8114fbb27cc",
     "grade": false,
     "grade_id": "cell-09791b1b900a902f",
     "locked": true,
     "schema_version": 1,
     "solution": false
    }
   },
   "source": [
    "1. Calculer les 6 premiers termes de cette suite : 1 , 1, ..."
   ]
  },
  {
   "cell_type": "markdown",
   "metadata": {
    "deletable": false,
    "nbgrader": {
     "checksum": "5315ea70adb163ae7d398dd755d5b922",
     "grade": true,
     "grade_id": "cell-ff2b27131a6b8f45",
     "locked": false,
     "points": 1,
     "schema_version": 1,
     "solution": true
    }
   },
   "source": [
    "YOUR ANSWER HERE"
   ]
  },
  {
   "cell_type": "code",
   "execution_count": 6,
   "metadata": {
    "deletable": false,
    "nbgrader": {
     "checksum": "caebb10732db52a1e22957a3a1cce74c",
     "grade": false,
     "grade_id": "cell-d3bdaa32fb17af3c",
     "locked": false,
     "schema_version": 1,
     "solution": true
    }
   },
   "outputs": [],
   "source": [
    "''' Reproduire et compléter la fonction python suivante donnant la liste des $n$ premiers termes'''\n",
    "\n",
    "def fib(n):\n",
    "    liste = []\n",
    "    f,g = 1,1\n",
    "    for i in range(n):\n",
    "        liste.append(f)\n",
    "        f,g = g, f+g\n",
    "    return liste"
   ]
  },
  {
   "cell_type": "code",
   "execution_count": 7,
   "metadata": {
    "deletable": false,
    "editable": false,
    "nbgrader": {
     "checksum": "024643c54f732936be8da5c556da4d9c",
     "grade": true,
     "grade_id": "cell-d3b60839649ba5a8",
     "locked": true,
     "points": 1,
     "schema_version": 1,
     "solution": false
    }
   },
   "outputs": [],
   "source": [
    "''' Vérifier que votre fonction renvoie les listes correctes pour différentes valeurs de n\n",
    "    Cette cellule doit s'exécuter sans erreur '''\n",
    "\n",
    "assert fib(6) == [1, 1, 2, 3, 5, 8]\n",
    "assert fib(7) == [1, 1, 2, 3, 5, 8, 13]\n"
   ]
  },
  {
   "cell_type": "code",
   "execution_count": 9,
   "metadata": {
    "deletable": false,
    "nbgrader": {
     "checksum": "351de84f8e240bd2d97decd7649d4504",
     "grade": false,
     "grade_id": "cell-37168fc06ff7ee1d",
     "locked": false,
     "schema_version": 1,
     "solution": true
    }
   },
   "outputs": [],
   "source": [
    "''' Reproduire et compléter la fonction python suivante donnant la représentation graphique \n",
    "    des n premiers termes de la suite en fonction de n '''\n",
    "\n",
    "def gfib(n):\n",
    "    list_x = [ i for i in range(n)]\n",
    "    list_y = fib(n)\n",
    "    plt.plot(list_x,list_y,'bo')"
   ]
  },
  {
   "cell_type": "code",
   "execution_count": 10,
   "metadata": {
    "deletable": false,
    "editable": false,
    "nbgrader": {
     "checksum": "2f406b9a8dfeb7f7616dda8af9565aa2",
     "grade": false,
     "grade_id": "cell-6c2533b98d300be6",
     "locked": true,
     "schema_version": 1,
     "solution": false
    }
   },
   "outputs": [
    {
     "name": "stdout",
     "output_type": "stream",
     "text": [
      "[1, 1, 2, 3, 5, 8, 13, 21, 34, 55]\n"
     ]
    },
    {
     "data": {
      "image/png": "[encoded data removed]",
      "text/plain": [
       "<Figure size 432x288 with 1 Axes>"
      ]
     },
     "metadata": {
      "needs_background": "light"
     },
     "output_type": "display_data"
    }
   ],
   "source": [
    " '''Représenter graphiquement les 10 premiers termes'''\n",
    "print(fib(10))\n",
    "gfib(10)"
   ]
  },
  {
   "cell_type": "markdown",
   "metadata": {
    "deletable": false,
    "editable": false,
    "nbgrader": {
     "checksum": "da2c49d6e73b6e14d6803b86b1552098",
     "grade": false,
     "grade_id": "cell-78309e5d9ae196f3",
     "locked": true,
     "schema_version": 1,
     "solution": false
    }
   },
   "source": [
    "2. Emettre une conjecture sur le sens de variation et la limite de cette suite\n",
    "3. On suppose que pour tout entier naturel  $n$ , $F_n>0$  . Justifier l'une de vos conjectures."
   ]
  },
  {
   "cell_type": "markdown",
   "metadata": {
    "deletable": false,
    "nbgrader": {
     "checksum": "f2be301b09f274a00ac67a1bf9e13265",
     "grade": true,
     "grade_id": "cell-256eef5b0c0bc3e9",
     "locked": false,
     "points": 2,
     "schema_version": 1,
     "solution": true
    }
   },
   "source": [
    "Prouvons $(F_n)$ est strict. croissante :\n",
    "\n",
    "Par hypo. on a pour tout entier naturel $n$, $F_{n+2} = F_{n+1} + F_n$\n",
    "d'où $F_{n+2}-F_{n+1} = F_n >0$\n",
    "\n",
    "Donc pour tout entier naturel $n$, on a $F_{n+2} > F_{n+1}$: La suite est strit. croissante à partir du rang 1\n",
    "- pour $n=0$ , on a $F_2 > F_1$\n",
    "- pour $n=1$, on a $F_3 > F_2$\n",
    "...\n",
    "\n",
    "En fin de compte, on a $F_0 \\leqslant F_1 < F_2 < F_3 < \\ldots $ : Donc $(F_n)$ est croissante sur IN\n"
   ]
  },
  {
   "cell_type": "code",
   "execution_count": null,
   "metadata": {
    "deletable": false,
    "nbgrader": {
     "checksum": "8c0b87b84b09193b80580e6fd61d8e06",
     "grade": false,
     "grade_id": "cell-559f2d9d4cf1fa3d",
     "locked": false,
     "schema_version": 1,
     "solution": true
    }
   },
   "outputs": [],
   "source": [
    "''' Reproduire et compléter cette fonction python permettant de connaître le nombre de mois\n",
    "nécessaire pour que le nombre de couples de lapins soit supérieur à un réel A donné en paramètre'''\n",
    "'''\n",
    "def sfib(A):\n",
    "    f,g = 1,1\n",
    "    n = 0\n",
    "    while f < A :\n",
    "        n = ...\n",
    "        f,g = ...\n",
    "    return n\n",
    "'''\n",
    "def sfib(A):\n",
    "    # YOUR CODE HERE\n",
    "    raise NotImplementedError()"
   ]
  },
  {
   "cell_type": "code",
   "execution_count": null,
   "metadata": {
    "deletable": false,
    "editable": false,
    "nbgrader": {
     "checksum": "608f07a0ace5c4792bf4589d124988d7",
     "grade": true,
     "grade_id": "cell-4a026bb0bc9dfb5e",
     "locked": true,
     "points": 1,
     "schema_version": 1,
     "solution": false
    }
   },
   "outputs": [],
   "source": [
    "''' Vérifier que votre fonction renvoie les valeurs pour différentes valeurs de A\n",
    "    Cette cellule doit s'exécuter sans erreur '''\n",
    "\n",
    "assert sfib(300) == 13\n",
    "assert sfib(10000) == 20 \n"
   ]
  }
 ],
 "metadata": {
  "kernelspec": {
   "display_name": "Python 3",
   "language": "python",
   "name": "python3"
  },
  "language_info": {
   "codemirror_mode": {
    "name": "ipython",
    "version": 3
   },
   "file_extension": ".py",
   "mimetype": "text/x-python",
   "name": "python",
   "nbconvert_exporter": "python",
   "pygments_lexer": "ipython3",
   "version": "3.7.3"
  }
 },
 "nbformat": 4,
 "nbformat_minor": 4
}
