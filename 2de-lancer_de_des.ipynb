{
 "cells": [
  {
   "cell_type": "markdown",
   "metadata": {
    "colab_type": "text",
    "id": "Vj62NkmAB0xO"
   },
   "source": [
    "# Simulation : répétition d'un jeu\n",
    "\n",
    "Le jeu : on lance deux dés équilibrés et on considère la somme.\n",
    "\n",
    "L'objectif : répéter $n$ fois ce jeu et afficher la fréquence d'apparition d'une somme égale à une valeur donnée.\n",
    "\n",
    "Etapes pour réaliser le programme final :\n",
    "1. écrire une fonction *jeu* simulant ce jeu\n",
    "2. écrire une fonction *jeux* simulant 100 fois ce jeu (cette fonction ne renvoie rien et appelle la fonction *jeu*)\n",
    "3. modifier la fonction *jeux* pour renvoyer le nombre d'apparitions d'une somme égale à 7\n",
    "4. modifier la fonction *jeux* pour qu'elle prenne pour paramètre un entier naturel $n$, simule $n$ fois le jeu et renvoie le nombre d'apparitions d'une somme égale à 7.\n",
    "5. modifier la fonction *jeux* pour qu'elle prenne pour paramètres deux entiers naturels $n$ et $s$, simule $n$ fois le jeu et renvoie le nombre d'apparitions d'une somme égale à $s$.\n",
    "6. modifier $jeux$ pour renvoyer la fréquence."
   ]
  },
  {
   "cell_type": "markdown",
   "metadata": {
    "colab_type": "text",
    "id": "W1-z7awMEkUo"
   },
   "source": [
    "## Etape 1\n",
    "Lire le code ci-dessous puis répondre aux questions\n",
    "\n",
    "**Questions** \n",
    "1. pourquoi est-il nécessaire d'appeler la bibliothèque *random*?\n",
    "2. que fait l'instruction *randint(1,6)* ? que simule la ligne d'instruction *de1 = randint(1,6)* ?\n",
    "\n",
    "\n"
   ]
  },
  {
   "cell_type": "code",
   "execution_count": null,
   "metadata": {
    "colab": {},
    "colab_type": "code",
    "id": "Hrd2UbeLENS5"
   },
   "outputs": [],
   "source": [
    "from random import *\n",
    "def jeu():\n",
    "  de1 = randint(1,6)\n",
    "  de2 = randint(1,6)\n",
    "  somme = de1 + de2\n",
    "  return somme"
   ]
  },
  {
   "cell_type": "markdown",
   "metadata": {
    "colab_type": "text",
    "id": "giYmvjKaHqQ_"
   },
   "source": [
    "# Etape 2\n",
    "\n",
    "**Questions**\n",
    "3. Quelle instruction de boucle est la plus adaptée pour répeter 100 fois un bloc d'instructions ?\n",
    "4. Compléter la ligne manquante dans le programme ci-dessous"
   ]
  },
  {
   "cell_type": "code",
   "execution_count": null,
   "metadata": {
    "colab": {},
    "colab_type": "code",
    "id": "sF1NcZpaILfh"
   },
   "outputs": [],
   "source": [
    "def jeux():\n",
    "  ...\n",
    "    somme = jeu()\n",
    "  "
   ]
  },
  {
   "cell_type": "markdown",
   "metadata": {
    "colab_type": "text",
    "id": "25ugT6BrJxSk"
   },
   "source": [
    "## Etape 3\n",
    "\n",
    "On introduit la variable *cpt* qui comptera le nombre d'apparitions d'une somme égale à 7\n",
    "\n",
    "**Questions**\n",
    "\n",
    "5. Les fonctions suivantes ont chacune une erreur, laquelle ?\n",
    "6. Ecrire la fonction correcte\n"
   ]
  },
  {
   "cell_type": "code",
   "execution_count": null,
   "metadata": {
    "colab": {},
    "colab_type": "code",
    "id": "dJdC4_YaLJuz"
   },
   "outputs": [],
   "source": [
    "def jeux():\n",
    "  cpt = 0\n",
    "  for i in range(100):\n",
    "    somme = jeu()\n",
    "  if somme == 7 : cpt = cpt + 1\n",
    "  return cpt\n",
    "\n",
    "def jeux():\n",
    "  cpt = 1\n",
    "  for i in range(100):\n",
    "    somme = jeu()\n",
    "    if somme == 7: cpt = cpt + 1\n",
    "  return cpt"
   ]
  },
  {
   "cell_type": "markdown",
   "metadata": {
    "colab_type": "text",
    "id": "igduxwkpNCKJ"
   },
   "source": [
    "**Questions**\n",
    "Ecrire (en suivant les étapes) le programme final"
   ]
  },
  {
   "cell_type": "code",
   "execution_count": null,
   "metadata": {
    "colab": {},
    "colab_type": "code",
    "id": "IFLLaCXENapp"
   },
   "outputs": [],
   "source": []
  }
 ],
 "metadata": {
  "colab": {
   "authorship_tag": "ABX9TyMGCoj1qioqijEhhkIYu1nS",
   "collapsed_sections": [],
   "name": "2de-lancer_de_des.ipynb",
   "provenance": []
  },
  "kernelspec": {
   "display_name": "Python 3",
   "language": "python",
   "name": "python3"
  },
  "language_info": {
   "codemirror_mode": {
    "name": "ipython",
    "version": 3
   },
   "file_extension": ".py",
   "mimetype": "text/x-python",
   "name": "python",
   "nbconvert_exporter": "python",
   "pygments_lexer": "ipython3",
   "version": "3.7.6"
  }
 },
 "nbformat": 4,
 "nbformat_minor": 4
}
